{
 "cells": [
  {
   "cell_type": "markdown",
   "metadata": {},
   "source": [
    "# Docker Stats Example\n",
    "\n",
    "## With Docker stats values\n",
    "\n",
    "Run the `scrips/generate_data.sh`, this will produce a data.csv that will be used to create the graphs.\n",
    "You can update it to change the time it runs (by default 30min)\n",
    "\n",
    "Import the local library then pass the file as parameter."
   ]
  },
  {
   "cell_type": "code",
   "execution_count": null,
   "metadata": {},
   "outputs": [],
   "source": [
    "from src.dockerstats import *\n",
    "\n",
    "ds = DockerStats(\"scripts/data.csv\")\n",
    "\n",
    "print(\"The duration time is of \\t\" + str(ds.duration_min()) + \" min\")\n",
    "print(\"The average cpu is of  \\t\\t\" + str(ds.cpu_avg()) + \" %\")\n",
    "print(\"The average memrory usage is of \" + str(ds.memory_avg()) + \" %\")"
   ]
  },
  {
   "cell_type": "code",
   "execution_count": null,
   "metadata": {
    "scrolled": true
   },
   "outputs": [],
   "source": [
    "ds.plot_category('MEM Usage')"
   ]
  },
  {
   "cell_type": "code",
   "execution_count": null,
   "metadata": {},
   "outputs": [],
   "source": [
    "ds.plot_category('CPU %')"
   ]
  },
  {
   "cell_type": "markdown",
   "metadata": {},
   "source": [
    "To plot all the interesting graphs (CPU, Memory, Net IO and Block IO)"
   ]
  },
  {
   "cell_type": "code",
   "execution_count": null,
   "metadata": {},
   "outputs": [],
   "source": [
    "ds.mean_for_apps()"
   ]
  }
 ],
 "metadata": {
  "kernelspec": {
   "display_name": "Python 3 (ipykernel)",
   "language": "python",
   "name": "python3"
  },
  "language_info": {
   "codemirror_mode": {
    "name": "ipython",
    "version": 3
   },
   "file_extension": ".py",
   "mimetype": "text/x-python",
   "name": "python",
   "nbconvert_exporter": "python",
   "pygments_lexer": "ipython3",
   "version": "3.10.6"
  },
  "vscode": {
   "interpreter": {
    "hash": "916dbcbb3f70747c44a77c7bcd40155683ae19c65e1c03b4aa3499c5328201f1"
   }
  }
 },
 "nbformat": 4,
 "nbformat_minor": 2
}
